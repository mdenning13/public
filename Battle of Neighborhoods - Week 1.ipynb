{
 "cells": [
  {
   "cell_type": "markdown",
   "metadata": {},
   "source": [
    "##### INTRODUCTION/BUSINESS PLAN\n",
    "I am an entreprenuer who is looking to start a new restaurant in Minneapolis, Minnesota. In order to identify which cuisine to offer, I need to analyse how many types of restaurants already exist, by cuisine. In addition, I would like to see the average rating of the different types of cuisines, to see if one style is not rated highly which could present an opportunity. In order to further identify an anamoly/opportunity, I will run the same analysis on neghboring St. Paul, Minnesota, to use in comparison to identify any anomolies in Minneapolis (e.g. if St. Paul has alot of Italian restaurants with high ratings but Minneapolis does not, perhaps there is an opportunity)"
   ]
  },
  {
   "cell_type": "markdown",
   "metadata": {},
   "source": [
    "##### DATA\n",
    "I will utilize Foursquare data to obtain information on the number of restaurants by cuisine, aggregating them by cuisine type and analyzing their average rating. I will compare Minneapolis data to neighboring city St. Paul in order to understand what opportunities exist. Once I have identified the opportunity, I will display the competitive restaurants on a chloropleth map to visually convey the competitive landscape and help determine where I will start the new restaurant."
   ]
  },
  {
   "cell_type": "code",
   "execution_count": null,
   "metadata": {},
   "outputs": [],
   "source": []
  }
 ],
 "metadata": {
  "kernelspec": {
   "display_name": "Python 3",
   "language": "python",
   "name": "python3"
  },
  "language_info": {
   "codemirror_mode": {
    "name": "ipython",
    "version": 3
   },
   "file_extension": ".py",
   "mimetype": "text/x-python",
   "name": "python",
   "nbconvert_exporter": "python",
   "pygments_lexer": "ipython3",
   "version": "3.7.6"
  }
 },
 "nbformat": 4,
 "nbformat_minor": 4
}
