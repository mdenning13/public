{
 "cells": [
  {
   "cell_type": "markdown",
   "metadata": {},
   "source": [
    "# Capstone Report"
   ]
  },
  {
   "cell_type": "markdown",
   "metadata": {},
   "source": [
    "### Introduction\n",
    "\n",
    "I am an entreprenuer who is looking to start a new restaurant in Minneapolis, Minnesota. In order to identify which cuisine to offer, I need to analyse how many types of restaurants already exist, by cuisine. I could start a restaurant that is either Chinese, Italian or Mexican. In order to further identify an anamoly/opportunity, I will run the same analysis on neighboring St. Paul, Minnesota, to use in comparison to identify any anomolies in Minneapolis (e.g. if St. Paul has alot of Italian restaurants with but Minneapolis does not, perhaps there is an opportunity)"
   ]
  },
  {
   "cell_type": "markdown",
   "metadata": {},
   "source": [
    "### Data Utilized\n",
    "\n",
    "I have utilized Foursquare data to obtain information on the number of restaurants by cuisine, aggregating them by cuisine type. I compared Minneapolis data to neighboring city St. Paul in order to understand what opportunities exist."
   ]
  },
  {
   "cell_type": "markdown",
   "metadata": {},
   "source": [
    "### Methedology/Data Analysis\n",
    "\n",
    "I obtained data via Foursquare API's, and then converted the raw data into panda dataframes. From there I further processed the information by plotting the results (restaurants by cuisine, by city) on a Chloropleth map."
   ]
  },
  {
   "cell_type": "markdown",
   "metadata": {},
   "source": [
    "### Results\n",
    "\n",
    "All of the Chloropleth maps, and detailed results of the searches, are in the presentation I have posted (seperate post in Coursera). The overall results, however, are as follows:\n",
    "\n",
    " Number of Restaurants:\n",
    "\n",
    "Chinese: \n",
    "Minneapolis - 38 ; \n",
    "St. Paul - 37\n",
    "\n",
    "Italian: \n",
    "Minneapolis - 40 ;\n",
    "St. Paul - 35\n",
    "\n",
    "Mexican: \n",
    "Minneapolis - 44 ;\n",
    "St. Paul - 40\n"
   ]
  },
  {
   "cell_type": "markdown",
   "metadata": {},
   "source": [
    "### Recommendations\n",
    "\n",
    "Based on the comparitive data, I will start a Chinese Restaurant. There are the same number of Chinese restaurants, approximately, in the areas compared in Minneapolis vs. St. Paul. However, for the Italian and Mexican restaurants, there approximately 10% more of these types of restaurants in Minneapolis compared to St. Paul. Therefore, it appears that Chinese restaurants are underrepresented in Minneapolis."
   ]
  },
  {
   "cell_type": "markdown",
   "metadata": {},
   "source": [
    "### Conclusions\n",
    "\n",
    "The conclusion is to start a Chinese Restaurant. I realize my results did not have the most reobust data, as I was limited by the amount of data I could pull from each Foursquare API call. However, this provides a framework for an analysis to help identify a new restuarant opportunity"
   ]
  }
 ],
 "metadata": {
  "kernelspec": {
   "display_name": "Python 3",
   "language": "python",
   "name": "python3"
  },
  "language_info": {
   "codemirror_mode": {
    "name": "ipython",
    "version": 3
   },
   "file_extension": ".py",
   "mimetype": "text/x-python",
   "name": "python",
   "nbconvert_exporter": "python",
   "pygments_lexer": "ipython3",
   "version": "3.7.6"
  }
 },
 "nbformat": 4,
 "nbformat_minor": 4
}
